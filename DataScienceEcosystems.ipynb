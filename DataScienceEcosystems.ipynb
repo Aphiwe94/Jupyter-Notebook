{
 "cells": [
  {
   "cell_type": "markdown",
   "id": "bfb05ef9-f5b1-4f94-b407-dae82b46dfec",
   "metadata": {},
   "source": [
    "# Data Science Tools and Ecosystem"
   ]
  },
  {
   "cell_type": "markdown",
   "id": "bca14cd1-aafa-4f4d-912c-97379dbf9345",
   "metadata": {},
   "source": [
    "In this notebook, Data Science Tools and Ecosystem are summarized."
   ]
  },
  {
   "cell_type": "markdown",
   "id": "4b335887-d742-4113-bed6-3dbeca10f47b",
   "metadata": {},
   "source": [
    "**Objectives:**\n",
    "* List popular languages for Data Science\n",
    "* Commonly used libraries by Data Scientist\n",
    "* Data Science Tools"
   ]
  },
  {
   "cell_type": "markdown",
   "id": "53c61b47-eebf-4d94-afa3-48d021862bea",
   "metadata": {},
   "source": [
    "Some of the popular languages that Data Scientist use are:\n",
    "1. Python\n",
    "2. R\n",
    "3. SQL\n",
    "4. Scala\n",
    "5. Java\n",
    "    "
   ]
  },
  {
   "cell_type": "markdown",
   "id": "5d360f5a-718b-46d9-9086-8d1db7d6a8e5",
   "metadata": {},
   "source": [
    "Some of the commonly used libraries used by Data Scientists include:\n",
    "\n",
    "1. Pandas\n",
    "2. Numpy\n",
    "3. Matplotlib\n",
    "4. Scikit-learn"
   ]
  },
  {
   "cell_type": "markdown",
   "id": "75a0f013-9069-41d9-9c9b-ebe753df00ed",
   "metadata": {},
   "source": [
    "| Data Sciences Tools     | \n",
    "| ------------- | \n",
    "| Jupyter    |\n",
    "| RStudio    |\n",
    "| Spyder     |"
   ]
  },
  {
   "cell_type": "markdown",
   "id": "b2d2f543-36e1-4979-8fc3-eb3fd2700a0f",
   "metadata": {},
   "source": [
    "### Below are a few examples of evaluating arithmetic expressions in Python"
   ]
  },
  {
   "cell_type": "code",
   "execution_count": 2,
   "id": "4c9ab5c3-7cfb-4662-9360-f32ed95293fa",
   "metadata": {},
   "outputs": [
    {
     "data": {
      "text/plain": [
       "17"
      ]
     },
     "execution_count": 2,
     "metadata": {},
     "output_type": "execute_result"
    }
   ],
   "source": [
    "# This a simple arithmetic expression to mutiply then add integers\n",
    "\n",
    "(3*4)+5"
   ]
  },
  {
   "cell_type": "code",
   "execution_count": 3,
   "id": "8c1bf647-bbcc-469c-b681-a08e95489e5b",
   "metadata": {},
   "outputs": [
    {
     "data": {
      "text/plain": [
       "3.3333333333333335"
      ]
     },
     "execution_count": 3,
     "metadata": {},
     "output_type": "execute_result"
    }
   ],
   "source": [
    "# This will convert 200 minutes to hours by diving by 60\n",
    "\n",
    "200/60\n"
   ]
  },
  {
   "cell_type": "markdown",
   "id": "df7666d5-aea2-406b-b5e2-573cee2e6fd9",
   "metadata": {},
   "source": [
    "## Author\n",
    "Aphiwe Rasisemula"
   ]
  },
  {
   "cell_type": "code",
   "execution_count": null,
   "id": "122e4bca-5c12-4e6f-be74-8bd8d08d57ce",
   "metadata": {},
   "outputs": [],
   "source": []
  }
 ],
 "metadata": {
  "kernelspec": {
   "display_name": "Python",
   "language": "python",
   "name": "conda-env-python-py"
  },
  "language_info": {
   "codemirror_mode": {
    "name": "ipython",
    "version": 3
   },
   "file_extension": ".py",
   "mimetype": "text/x-python",
   "name": "python",
   "nbconvert_exporter": "python",
   "pygments_lexer": "ipython3",
   "version": "3.7.12"
  }
 },
 "nbformat": 4,
 "nbformat_minor": 5
}
